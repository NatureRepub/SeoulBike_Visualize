{
 "cells": [
  {
   "cell_type": "code",
   "execution_count": 1,
   "id": "7d0da693",
   "metadata": {},
   "outputs": [],
   "source": [
    "import pandas as pd\n",
    "import numpy as np\n",
    "import matplotlib.pyplot as plt\n",
    "from sklearn.linear_model import LinearRegression"
   ]
  },
  {
   "cell_type": "code",
   "execution_count": 2,
   "id": "5faffd86",
   "metadata": {},
   "outputs": [
    {
     "name": "stdout",
     "output_type": "stream",
     "text": [
      "<class 'pandas.core.frame.DataFrame'>\n",
      "RangeIndex: 8465 entries, 0 to 8464\n",
      "Data columns (total 14 columns):\n",
      " #   Column                     Non-Null Count  Dtype  \n",
      "---  ------                     --------------  -----  \n",
      " 0   Date                       8465 non-null   object \n",
      " 1   Rented Bike Count          8465 non-null   int64  \n",
      " 2   Hour                       8465 non-null   int64  \n",
      " 3   Temperature                8465 non-null   float64\n",
      " 4   Humidity(%)                8465 non-null   int64  \n",
      " 5   Wind speed (m/s)           8465 non-null   float64\n",
      " 6   Visibility (10m)           8465 non-null   int64  \n",
      " 7   Dew point temperature(�C)  8465 non-null   float64\n",
      " 8   Solar Radiation (MJ/m2)    8465 non-null   float64\n",
      " 9   Rainfall(mm)               8465 non-null   float64\n",
      " 10  Snowfall (cm)              8465 non-null   float64\n",
      " 11  Seasons                    8465 non-null   object \n",
      " 12  Holiday                    8465 non-null   object \n",
      " 13  Functioning Day            8465 non-null   object \n",
      "dtypes: float64(6), int64(4), object(4)\n",
      "memory usage: 926.0+ KB\n"
     ]
    }
   ],
   "source": [
    "df = pd.read_csv(\"SeoulBikeData.csv\")\n",
    "df.head()\n",
    "df.info()"
   ]
  },
  {
   "cell_type": "code",
   "execution_count": 3,
   "id": "484c5706",
   "metadata": {},
   "outputs": [
    {
     "data": {
      "text/plain": [
       "Date                         datetime64[ns]\n",
       "Rented Bike Count                     int64\n",
       "Hour                                  int64\n",
       "Temperature                         float64\n",
       "Humidity(%)                           int64\n",
       "Wind speed (m/s)                    float64\n",
       "Visibility (10m)                      int64\n",
       "Dew point temperature(�C)           float64\n",
       "Solar Radiation (MJ/m2)             float64\n",
       "Rainfall(mm)                        float64\n",
       "Snowfall (cm)                       float64\n",
       "Seasons                              object\n",
       "Holiday                              object\n",
       "Functioning Day                      object\n",
       "dtype: object"
      ]
     },
     "execution_count": 3,
     "metadata": {},
     "output_type": "execute_result"
    }
   ],
   "source": [
    "train = df.copy()\n",
    "train['Date'] = pd.to_datetime(train['Date'])\n",
    "train.dtypes"
   ]
  },
  {
   "cell_type": "code",
   "execution_count": 4,
   "id": "31f97547",
   "metadata": {},
   "outputs": [
    {
     "data": {
      "text/plain": [
       "Date                         0\n",
       "Rented Bike Count            0\n",
       "Hour                         0\n",
       "Temperature                  0\n",
       "Humidity(%)                  0\n",
       "Wind speed (m/s)             0\n",
       "Visibility (10m)             0\n",
       "Dew point temperature(�C)    0\n",
       "Solar Radiation (MJ/m2)      0\n",
       "Rainfall(mm)                 0\n",
       "Snowfall (cm)                0\n",
       "Seasons                      0\n",
       "Holiday                      0\n",
       "Functioning Day              0\n",
       "dtype: int64"
      ]
     },
     "execution_count": 4,
     "metadata": {},
     "output_type": "execute_result"
    }
   ],
   "source": [
    "train.isnull().sum()"
   ]
  },
  {
   "cell_type": "code",
   "execution_count": 5,
   "id": "a5b5707f",
   "metadata": {},
   "outputs": [
    {
     "data": {
      "text/html": [
       "<div>\n",
       "<style scoped>\n",
       "    .dataframe tbody tr th:only-of-type {\n",
       "        vertical-align: middle;\n",
       "    }\n",
       "\n",
       "    .dataframe tbody tr th {\n",
       "        vertical-align: top;\n",
       "    }\n",
       "\n",
       "    .dataframe thead th {\n",
       "        text-align: right;\n",
       "    }\n",
       "</style>\n",
       "<table border=\"1\" class=\"dataframe\">\n",
       "  <thead>\n",
       "    <tr style=\"text-align: right;\">\n",
       "      <th></th>\n",
       "      <th>Rented Bike Count</th>\n",
       "      <th>Hour</th>\n",
       "      <th>Temperature</th>\n",
       "      <th>Humidity(%)</th>\n",
       "      <th>Wind speed (m/s)</th>\n",
       "      <th>Visibility (10m)</th>\n",
       "      <th>Dew point temperature(�C)</th>\n",
       "      <th>Solar Radiation (MJ/m2)</th>\n",
       "      <th>Rainfall(mm)</th>\n",
       "      <th>Snowfall (cm)</th>\n",
       "      <th>year</th>\n",
       "      <th>month</th>\n",
       "      <th>day</th>\n",
       "      <th>hour</th>\n",
       "      <th>minute</th>\n",
       "      <th>second</th>\n",
       "      <th>dayofweek</th>\n",
       "    </tr>\n",
       "  </thead>\n",
       "  <tbody>\n",
       "    <tr>\n",
       "      <th>count</th>\n",
       "      <td>8465.000000</td>\n",
       "      <td>8465.000000</td>\n",
       "      <td>8465.000000</td>\n",
       "      <td>8465.000000</td>\n",
       "      <td>8465.000000</td>\n",
       "      <td>8465.000000</td>\n",
       "      <td>8465.000000</td>\n",
       "      <td>8465.000000</td>\n",
       "      <td>8465.00000</td>\n",
       "      <td>8465.000000</td>\n",
       "      <td>8465.000000</td>\n",
       "      <td>8465.000000</td>\n",
       "      <td>8465.000000</td>\n",
       "      <td>8465.0</td>\n",
       "      <td>8465.0</td>\n",
       "      <td>8465.0</td>\n",
       "      <td>8465.000000</td>\n",
       "    </tr>\n",
       "    <tr>\n",
       "      <th>mean</th>\n",
       "      <td>729.156999</td>\n",
       "      <td>11.507029</td>\n",
       "      <td>12.771057</td>\n",
       "      <td>58.147194</td>\n",
       "      <td>1.725883</td>\n",
       "      <td>1433.873479</td>\n",
       "      <td>3.944997</td>\n",
       "      <td>0.567868</td>\n",
       "      <td>0.14912</td>\n",
       "      <td>0.077685</td>\n",
       "      <td>2017.912109</td>\n",
       "      <td>6.493325</td>\n",
       "      <td>15.786651</td>\n",
       "      <td>0.0</td>\n",
       "      <td>0.0</td>\n",
       "      <td>0.0</td>\n",
       "      <td>3.020201</td>\n",
       "    </tr>\n",
       "    <tr>\n",
       "      <th>std</th>\n",
       "      <td>642.351166</td>\n",
       "      <td>6.920899</td>\n",
       "      <td>12.104375</td>\n",
       "      <td>20.484839</td>\n",
       "      <td>1.034281</td>\n",
       "      <td>609.051229</td>\n",
       "      <td>13.242399</td>\n",
       "      <td>0.868245</td>\n",
       "      <td>1.12554</td>\n",
       "      <td>0.444063</td>\n",
       "      <td>0.283154</td>\n",
       "      <td>3.463349</td>\n",
       "      <td>8.821231</td>\n",
       "      <td>0.0</td>\n",
       "      <td>0.0</td>\n",
       "      <td>0.0</td>\n",
       "      <td>1.987602</td>\n",
       "    </tr>\n",
       "    <tr>\n",
       "      <th>min</th>\n",
       "      <td>2.000000</td>\n",
       "      <td>0.000000</td>\n",
       "      <td>-17.800000</td>\n",
       "      <td>0.000000</td>\n",
       "      <td>0.000000</td>\n",
       "      <td>27.000000</td>\n",
       "      <td>-30.600000</td>\n",
       "      <td>0.000000</td>\n",
       "      <td>0.00000</td>\n",
       "      <td>0.000000</td>\n",
       "      <td>2017.000000</td>\n",
       "      <td>1.000000</td>\n",
       "      <td>1.000000</td>\n",
       "      <td>0.0</td>\n",
       "      <td>0.0</td>\n",
       "      <td>0.0</td>\n",
       "      <td>0.000000</td>\n",
       "    </tr>\n",
       "    <tr>\n",
       "      <th>25%</th>\n",
       "      <td>214.000000</td>\n",
       "      <td>6.000000</td>\n",
       "      <td>3.000000</td>\n",
       "      <td>42.000000</td>\n",
       "      <td>0.900000</td>\n",
       "      <td>935.000000</td>\n",
       "      <td>-5.100000</td>\n",
       "      <td>0.000000</td>\n",
       "      <td>0.00000</td>\n",
       "      <td>0.000000</td>\n",
       "      <td>2018.000000</td>\n",
       "      <td>4.000000</td>\n",
       "      <td>8.000000</td>\n",
       "      <td>0.0</td>\n",
       "      <td>0.0</td>\n",
       "      <td>0.0</td>\n",
       "      <td>1.000000</td>\n",
       "    </tr>\n",
       "    <tr>\n",
       "      <th>50%</th>\n",
       "      <td>542.000000</td>\n",
       "      <td>12.000000</td>\n",
       "      <td>13.500000</td>\n",
       "      <td>57.000000</td>\n",
       "      <td>1.500000</td>\n",
       "      <td>1690.000000</td>\n",
       "      <td>4.700000</td>\n",
       "      <td>0.010000</td>\n",
       "      <td>0.00000</td>\n",
       "      <td>0.000000</td>\n",
       "      <td>2018.000000</td>\n",
       "      <td>6.000000</td>\n",
       "      <td>16.000000</td>\n",
       "      <td>0.0</td>\n",
       "      <td>0.0</td>\n",
       "      <td>0.0</td>\n",
       "      <td>3.000000</td>\n",
       "    </tr>\n",
       "    <tr>\n",
       "      <th>75%</th>\n",
       "      <td>1084.000000</td>\n",
       "      <td>18.000000</td>\n",
       "      <td>22.700000</td>\n",
       "      <td>74.000000</td>\n",
       "      <td>2.300000</td>\n",
       "      <td>2000.000000</td>\n",
       "      <td>15.200000</td>\n",
       "      <td>0.930000</td>\n",
       "      <td>0.00000</td>\n",
       "      <td>0.000000</td>\n",
       "      <td>2018.000000</td>\n",
       "      <td>10.000000</td>\n",
       "      <td>23.000000</td>\n",
       "      <td>0.0</td>\n",
       "      <td>0.0</td>\n",
       "      <td>0.0</td>\n",
       "      <td>5.000000</td>\n",
       "    </tr>\n",
       "    <tr>\n",
       "      <th>max</th>\n",
       "      <td>3556.000000</td>\n",
       "      <td>23.000000</td>\n",
       "      <td>39.400000</td>\n",
       "      <td>98.000000</td>\n",
       "      <td>7.400000</td>\n",
       "      <td>2000.000000</td>\n",
       "      <td>27.200000</td>\n",
       "      <td>3.520000</td>\n",
       "      <td>35.00000</td>\n",
       "      <td>8.800000</td>\n",
       "      <td>2018.000000</td>\n",
       "      <td>12.000000</td>\n",
       "      <td>31.000000</td>\n",
       "      <td>0.0</td>\n",
       "      <td>0.0</td>\n",
       "      <td>0.0</td>\n",
       "      <td>6.000000</td>\n",
       "    </tr>\n",
       "  </tbody>\n",
       "</table>\n",
       "</div>"
      ],
      "text/plain": [
       "       Rented Bike Count         Hour  Temperature  Humidity(%)  \\\n",
       "count        8465.000000  8465.000000  8465.000000  8465.000000   \n",
       "mean          729.156999    11.507029    12.771057    58.147194   \n",
       "std           642.351166     6.920899    12.104375    20.484839   \n",
       "min             2.000000     0.000000   -17.800000     0.000000   \n",
       "25%           214.000000     6.000000     3.000000    42.000000   \n",
       "50%           542.000000    12.000000    13.500000    57.000000   \n",
       "75%          1084.000000    18.000000    22.700000    74.000000   \n",
       "max          3556.000000    23.000000    39.400000    98.000000   \n",
       "\n",
       "       Wind speed (m/s)  Visibility (10m)  Dew point temperature(�C)  \\\n",
       "count       8465.000000       8465.000000                8465.000000   \n",
       "mean           1.725883       1433.873479                   3.944997   \n",
       "std            1.034281        609.051229                  13.242399   \n",
       "min            0.000000         27.000000                 -30.600000   \n",
       "25%            0.900000        935.000000                  -5.100000   \n",
       "50%            1.500000       1690.000000                   4.700000   \n",
       "75%            2.300000       2000.000000                  15.200000   \n",
       "max            7.400000       2000.000000                  27.200000   \n",
       "\n",
       "       Solar Radiation (MJ/m2)  Rainfall(mm)  Snowfall (cm)         year  \\\n",
       "count              8465.000000    8465.00000    8465.000000  8465.000000   \n",
       "mean                  0.567868       0.14912       0.077685  2017.912109   \n",
       "std                   0.868245       1.12554       0.444063     0.283154   \n",
       "min                   0.000000       0.00000       0.000000  2017.000000   \n",
       "25%                   0.000000       0.00000       0.000000  2018.000000   \n",
       "50%                   0.010000       0.00000       0.000000  2018.000000   \n",
       "75%                   0.930000       0.00000       0.000000  2018.000000   \n",
       "max                   3.520000      35.00000       8.800000  2018.000000   \n",
       "\n",
       "             month          day    hour  minute  second    dayofweek  \n",
       "count  8465.000000  8465.000000  8465.0  8465.0  8465.0  8465.000000  \n",
       "mean      6.493325    15.786651     0.0     0.0     0.0     3.020201  \n",
       "std       3.463349     8.821231     0.0     0.0     0.0     1.987602  \n",
       "min       1.000000     1.000000     0.0     0.0     0.0     0.000000  \n",
       "25%       4.000000     8.000000     0.0     0.0     0.0     1.000000  \n",
       "50%       6.000000    16.000000     0.0     0.0     0.0     3.000000  \n",
       "75%      10.000000    23.000000     0.0     0.0     0.0     5.000000  \n",
       "max      12.000000    31.000000     0.0     0.0     0.0     6.000000  "
      ]
     },
     "execution_count": 5,
     "metadata": {},
     "output_type": "execute_result"
    }
   ],
   "source": [
    "train['year'] = train['Date'].dt.year\n",
    "train['month'] = train['Date'].dt.month\n",
    "train['day'] = train['Date'].dt.day\n",
    "train['hour'] = train['Date'].dt.hour\n",
    "train['minute'] = train['Date'].dt.minute\n",
    "train['second'] = train['Date'].dt.second\n",
    "train['dayofweek'] = train['Date'].dt.dayofweek\n",
    "train.describe()"
   ]
  },
  {
   "cell_type": "code",
   "execution_count": 6,
   "id": "177acc68",
   "metadata": {},
   "outputs": [
    {
     "data": {
      "text/plain": [
       "Summer    2208\n",
       "Winter    2160\n",
       "Spring    2160\n",
       "Autumn    1937\n",
       "Name: Seasons, dtype: int64"
      ]
     },
     "execution_count": 6,
     "metadata": {},
     "output_type": "execute_result"
    }
   ],
   "source": [
    "train['Seasons'].value_counts()"
   ]
  },
  {
   "cell_type": "code",
   "execution_count": 7,
   "id": "323c183e",
   "metadata": {},
   "outputs": [
    {
     "data": {
      "text/plain": [
       "<AxesSubplot:xlabel='Seasons', ylabel='Rented Bike Count'>"
      ]
     },
     "execution_count": 7,
     "metadata": {},
     "output_type": "execute_result"
    },
    {
     "data": {
      "image/png": "[encoded data removed]",
      "text/plain": [
       "<Figure size 1440x576 with 4 Axes>"
      ]
     },
     "metadata": {
      "needs_background": "light"
     },
     "output_type": "display_data"
    }
   ],
   "source": [
    "import matplotlib.pyplot as plt\n",
    "fig,((ax1,ax2),(ax3,ax4)) =plt.subplots(nrows=2, ncols=2)\n",
    "fig.set_size_inches(20,8)\n",
    "\n",
    "import seaborn as sns \n",
    "sns.barplot(data=train, x=\"year\", y=\"Rented Bike Count\", ax=ax1)\n",
    "sns.barplot(data=train, x=\"month\", y=\"Rented Bike Count\", ax=ax2)\n",
    "sns.barplot(data=train, x=\"day\", y=\"Rented Bike Count\", ax=ax3)\n",
    "sns.barplot(data=train, x=\"Seasons\", y=\"Rented Bike Count\", ax=ax4)"
   ]
  }
 ],
 "metadata": {
  "kernelspec": {
   "display_name": "Python 3 (ipykernel)",
   "language": "python",
   "name": "python3"
  },
  "language_info": {
   "codemirror_mode": {
    "name": "ipython",
    "version": 3
   },
   "file_extension": ".py",
   "mimetype": "text/x-python",
   "name": "python",
   "nbconvert_exporter": "python",
   "pygments_lexer": "ipython3",
   "version": "3.8.8"
  }
 },
 "nbformat": 4,
 "nbformat_minor": 5
}
